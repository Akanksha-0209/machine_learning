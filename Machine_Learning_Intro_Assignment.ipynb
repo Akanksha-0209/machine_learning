{
  "nbformat": 4,
  "nbformat_minor": 0,
  "metadata": {
    "colab": {
      "provenance": []
    },
    "kernelspec": {
      "name": "python3",
      "display_name": "Python 3"
    },
    "language_info": {
      "name": "python"
    }
  },
  "cells": [
    {
      "cell_type": "markdown",
      "source": [
        "Question 1. Explain the differences between AI, ML, Deep Learning (DL), and Data\n",
        "Science (DS).\n",
        "\n",
        "Answer : Artificial Intelligence (AI): Broad field focused on building systems that perform tasks that typically require human intelligence (reasoning, planning, perception, language). It’s the goal/umbrella.\n",
        "\n",
        "Machine Learning (ML): A subfield of AI where systems learn patterns from data to make predictions/decisions without being explicitly programmed (e.g., linear/logistic regression, trees, SVMs).\n",
        "\n",
        "Deep Learning (DL): A subfield of ML using multi-layer neural networks to learn complex representations directly from large datasets (e.g., CNNs for vision, RNN/Transformers for sequence).\n",
        "\n",
        "Data Science (DS): Interdisciplinary practice of turning data into insight and value. It covers data collection, cleaning, EDA, stats, ML, visualization, communication, and decision support. DS uses ML/DL as tools; not all DS is AI.\n",
        "\n",
        "Question 2: What are the types of machine learning? Describe each with one\n",
        "real-world example.\n",
        "\n",
        "Answer: Supervised learning: Learn from labeled examples to predict a target.\n",
        "Example: Fraud detection (label = fraud/not fraud).\n",
        "\n",
        "Unsupervised learning: Find structure in unlabeled data.\n",
        "Example: Customer segmentation with K-Means.\n",
        "\n",
        "Semi-supervised learning: Train on a small labeled set + large unlabeled set.\n",
        "Example: Classifying support tickets when only some are labeled.\n",
        "\n",
        "Self-supervised learning: Create supervisory signals from the data itself.\n",
        "Example: Masked-language modeling (predict missing words).\n",
        "\n",
        "Reinforcement learning: Agent learns by interacting with an environment to maximize reward.\n",
        "Example: Dynamic pricing.\n",
        "\n",
        "Question 3: Define overfitting, underfitting, and the bias-variance tradeoff in machine learning.\n",
        "\n",
        "Answer: Overfitting: Model captures noise/idiosyncrasies of training data → low train error, high test error. (Too complex; high variance.)\n",
        "\n",
        "Underfitting: Model too simple to capture signal → high error on train and test. (High bias.)\n",
        "\n",
        "Bias–variance trade-off: Increasing model complexity typically lowers bias but raises variance. Aim for the sweet spot (via validation, regularization, early stopping, etc.) that minimizes expected generalization error.\n",
        "\n",
        "Question 4: What are outliers in a dataset, and list three common techniques for handling them.\n",
        "\n",
        "Answer: Outliers: Observations that deviate markedly from the bulk of the data (measurement error, rare events, heavy tails).\n",
        "\n",
        "Winsorization / Capping\n",
        "\n",
        "Transformations\n",
        "\n",
        "Model-Aware methods\n",
        "\n",
        "Question 5: Explain the process of handling missing values and mention one\n",
        "imputation technique for numerical and one for categorical data.\n",
        "\n",
        "Answer: Access missingness mechanism, profile patterns, decide between deletion vs imputation vs modeling missingness, then validate impact.\n",
        "\n",
        "Numerical imputation - Mean/Median Imputation\n",
        "\n",
        "Categorical Imputation - Mode Imputation or add a missing category to preserve information.\n",
        "\n"
      ],
      "metadata": {
        "id": "W-XpWNBFq1y_"
      }
    },
    {
      "cell_type": "markdown",
      "source": [
        "Question 6: Write a Python program that:\n",
        "● Creates a synthetic imbalanced dataset with make_classification() from\n",
        "sklearn.datasets.\n",
        "● Prints the class distribution."
      ],
      "metadata": {
        "id": "mtvYUCN3vHHz"
      }
    },
    {
      "cell_type": "code",
      "source": [
        "from sklearn.datasets import make_classification\n",
        "from collections import Counter\n",
        "\n",
        "X, y = make_classification(\n",
        "    n_samples=1000,\n",
        "    n_features=10,\n",
        "    n_informative=3,\n",
        "    n_redundant=2,\n",
        "    n_clusters_per_class=1,\n",
        "    weights=[0.95, 0.05],\n",
        "    random_state=42\n",
        ")\n",
        "\n",
        "print(\"Class distribution:\", Counter(y))"
      ],
      "metadata": {
        "colab": {
          "base_uri": "https://localhost:8080/"
        },
        "id": "cDZXHs4GvF_g",
        "outputId": "193c8df1-f4d1-4f4f-a54a-eca36d276b16"
      },
      "execution_count": 9,
      "outputs": [
        {
          "output_type": "stream",
          "name": "stdout",
          "text": [
            "Class distribution: Counter({np.int64(0): 945, np.int64(1): 55})\n"
          ]
        }
      ]
    },
    {
      "cell_type": "markdown",
      "source": [
        "Question 7: Implement one-hot encoding using pandas for the following list of colors:\n",
        "['Red', 'Green', 'Blue', 'Green', 'Red']. Print the resulting dataframe.\n"
      ],
      "metadata": {
        "id": "UhbBf7WmyH3U"
      }
    },
    {
      "cell_type": "code",
      "source": [
        "import pandas as pd\n",
        "\n",
        "colors = ['Red','Green','Blue','Green','Red']\n",
        "df = pd.DataFrame({'color' : colors})\n",
        "one_hot = pd.get_dummies(df['color'], prefix='color')\n",
        "result = pd.concat([df, one_hot], axis=1)\n",
        "print(result)"
      ],
      "metadata": {
        "colab": {
          "base_uri": "https://localhost:8080/"
        },
        "id": "Sy4_BhpkxcEf",
        "outputId": "cba6b43a-5868-426d-9e88-df6e71005214"
      },
      "execution_count": 10,
      "outputs": [
        {
          "output_type": "stream",
          "name": "stdout",
          "text": [
            "   color  color_Blue  color_Green  color_Red\n",
            "0    Red       False        False       True\n",
            "1  Green       False         True      False\n",
            "2   Blue        True        False      False\n",
            "3  Green       False         True      False\n",
            "4    Red       False        False       True\n"
          ]
        }
      ]
    },
    {
      "cell_type": "markdown",
      "source": [
        "Question 8: Write a Python script to:\n",
        "● Generate 1000 samples from a normal distribution.\n",
        "● Introduce 50 random missing values.\n",
        "● Fill missing values with the column mean.\n",
        "● Plot a histogram before and after imputation."
      ],
      "metadata": {
        "id": "mwhqjimg1qX-"
      }
    },
    {
      "cell_type": "code",
      "source": [
        "import numpy as np\n",
        "import matplotlib.pyplot as plt\n",
        "import pandas as pd\n",
        "\n",
        "samples = np.random.normal(loc=0, scale=1, size=1000)\n",
        "samples_series = pd.Series(samples)\n",
        "\n",
        "missing_idx = np.random.choice(samples_series.index, size=50, replace=False)\n",
        "samples_series.iloc[missing_idx] = np.nan\n",
        "\n",
        "print(\"Missing BEFORE:\", samples_series.isna().sum())\n",
        "\n",
        "mean_val = samples_series.mean()\n",
        "samples_imputed = samples_series.fillna(mean_val)\n",
        "\n",
        "print(\"Missing AFTER:\", samples_imputed.isna().sum())\n",
        "print(\"Mean used for imputation:\", mean_val)\n",
        "\n",
        "plt.hist(samples_series.dropna(), bins=30, edgecolor='black')\n",
        "plt.title(\"Before Imputation\")\n",
        "plt.show()\n",
        "\n",
        "plt.hist(samples_imputed, bins=30, edgecolor='black')\n",
        "plt.title(\"After Imputation\")\n",
        "plt.show()"
      ],
      "metadata": {
        "colab": {
          "base_uri": "https://localhost:8080/",
          "height": 939
        },
        "id": "QmmrQRHezPv_",
        "outputId": "2019ac18-e913-4d6d-a02d-c25007ff3beb"
      },
      "execution_count": 8,
      "outputs": [
        {
          "output_type": "stream",
          "name": "stdout",
          "text": [
            "Missing BEFORE: 50\n",
            "Missing AFTER: 0\n",
            "Mean used for imputation: 0.0986315158320281\n"
          ]
        },
        {
          "output_type": "display_data",
          "data": {
            "text/plain": [
              "<Figure size 640x480 with 1 Axes>"
            ],
            "image/png": "[encoded data removed]"
          },
          "metadata": {}
        },
        {
          "output_type": "display_data",
          "data": {
            "text/plain": [
              "<Figure size 640x480 with 1 Axes>"
            ],
            "image/png": "[encoded data removed]"
          },
          "metadata": {}
        }
      ]
    },
    {
      "cell_type": "markdown",
      "source": [
        "Question 9: Implement Min-Max scaling on the following list of numbers [2, 5, 10, 15,\n",
        "20] using sklearn.preprocessing.MinMaxScaler. Print the scaled array."
      ],
      "metadata": {
        "id": "NOuYKeD94bJr"
      }
    },
    {
      "cell_type": "code",
      "source": [
        "from sklearn.preprocessing import MinMaxScaler\n",
        "\n",
        "numbers = np.array([[2], [5], [10], [15], [20]])\n",
        "scaler = MinMaxScaler()\n",
        "scaled = scaler.fit_transform(numbers)\n",
        "\n",
        "print(\"Original:\", numbers.ravel())\n",
        "print(\"Scaled:\", scaled.ravel())"
      ],
      "metadata": {
        "colab": {
          "base_uri": "https://localhost:8080/"
        },
        "id": "1a-u4kpj3eAs",
        "outputId": "069112d0-aa55-4703-fcf4-0284e27edf2e"
      },
      "execution_count": 7,
      "outputs": [
        {
          "output_type": "stream",
          "name": "stdout",
          "text": [
            "Original: [ 2  5 10 15 20]\n",
            "Scaled: [0.         0.16666667 0.44444444 0.72222222 1.        ]\n"
          ]
        }
      ]
    },
    {
      "cell_type": "markdown",
      "source": [
        "Question10: You are working as a data scientist for a retail company. You receive a customer\n",
        "transaction dataset that contains:\n",
        "● Missing ages,\n",
        "● Outliers in transaction amount,\n",
        "● A highly imbalanced target (fraud vs. non-fraud),\n",
        "● Categorical variables like payment method.\n",
        "Explain the step-by-step data preparation plan you’d follow before training a machine learning\n",
        "model. Include how you’d address missing data, outliers, imbalance, and encoding."
      ],
      "metadata": {
        "id": "D8Amhx0P5QQB"
      }
    },
    {
      "cell_type": "markdown",
      "source": [
        "Answer :  Train/test (or time-based) split first\n",
        "\n",
        "If data are temporal, use a time-ordered split (e.g., train on older months, validate on newer) to avoid leakage.\n",
        "\n",
        "Define consistent target prevalence across folds via stratified CV on fraud.\n",
        "\n",
        "Baseline EDA & data typing\n",
        "\n",
        "Fix dtypes; parse dates; standardize units/currencies; identify ID/leakage fields (e.g., transaction_id, created_at).\n",
        "\n",
        "Missing ages\n",
        "\n",
        "Check missingness pattern by customer segment; create age_missing_flag.\n",
        "\n",
        "Impute with median or model-based imputation (e.g., KNNImputer) using non-leaky features (no target, no post-event info).\n",
        "\n",
        "Outliers in transaction amount\n",
        "\n",
        "Visualize (boxplot, log-hist).\n",
        "\n",
        "Apply log transform to stabilize skew.\n",
        "\n",
        "Cap extreme values using IQR rule (Q1−1.5×IQR, Q3+1.5×IQR) or percentile capping (e.g., 1%/99%). Keep a amount_capped_flag.\n",
        "\n",
        "Imbalanced target (fraud vs. non-fraud)\n",
        "\n",
        "Use stratified CV and AUPRC / ROC-AUC with cost-sensitive thresholds.\n",
        "\n",
        "Handle imbalance with:\n",
        "\n",
        "Class weights in the estimator (preferred first), and/or\n",
        "\n",
        "Resampling on the training folds only (e.g., RandomUnderSampler, SMOTE).\n",
        "\n",
        "Calibrate probabilities (Platt/Isotonic) if decisions depend on costs.\n",
        "\n",
        "Categorical variables (payment method, etc.)\n",
        "\n",
        "Low-cardinality: One-hot encoding.\n",
        "\n",
        "High-cardinality: Target/WOE encoders (with CV smoothing to prevent leakage).\n",
        "\n",
        "Consolidate rare categories into “Other.”\n",
        "\n",
        "Scaling & feature engineering\n",
        "\n",
        "Scale numerical features where needed (e.g., RobustScaler for amount after log).\n",
        "\n",
        "Add behavior features: recent spend velocity, device consistency, time-of-day, merchant risk.\n",
        "\n",
        "Avoid target leakage by using only information available before the fraud label is determined.\n",
        "\n",
        "Pipeline & evaluation\n",
        "\n",
        "Implement a Pipeline that performs (imputation → encoding → scaling → resampling/weights → model).\n",
        "\n",
        "Evaluate with stratified K-fold/time-series CV; track precision-recall, cost-weighted metrics; inspect confusion matrix at chosen threshold."
      ],
      "metadata": {
        "id": "ubAtSs3x6nNC"
      }
    },
    {
      "cell_type": "code",
      "source": [],
      "metadata": {
        "id": "pDMjanvw5H2H"
      },
      "execution_count": null,
      "outputs": []
    }
  ]
}